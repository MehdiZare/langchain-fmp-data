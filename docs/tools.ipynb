{
 "cells": [
  {
   "cell_type": "raw",
   "id": "10238e62-3465-4973-9279-606cbb7ccf16",
   "metadata": {},
   "source": [
    "---\n",
    "sidebar_label: FmpData\n",
    "---"
   ]
  },
  {
   "cell_type": "markdown",
   "id": "a6f91f20",
   "metadata": {},
   "source": [
    "## LangChain FMP Data Tutorial\n",
    "This notebook demonstrates how to use the langchain-fmp-data package to access financial market data through LangChain.\n",
    "\n",
    "## Setup\n",
    "First, let's install the required packages:\n",
    "\n"
   ]
  },
  {
   "cell_type": "code",
   "execution_count": null,
   "id": "f85b4089",
   "metadata": {},
   "outputs": [],
   "source": "!pip install -U langchain-fmp-data"
  },
  {
   "cell_type": "markdown",
   "id": "b15e9266",
   "metadata": {},
   "source": [
    "### Credentials\n",
    "\n",
    "To use this package, you'll need:\n",
    "\n",
    "- An FMP (Financial Modeling Prep) API key from financialmodelingprep.com\n",
    "- An OpenAI API key\n",
    "\n",
    "Let's set up our environment variables:"
   ]
  },
  {
   "cell_type": "code",
   "execution_count": 2,
   "id": "e0b178a2-8816-40ca-b57c-ccdd86dde9c9",
   "metadata": {},
   "outputs": [],
   "source": [
    "import os\n",
    "\n",
    "# Replace with your actual API keys\n",
    "os.environ[\"FMP_API_KEY\"] = \"your-fmp-api-key\"  # pragma: allowlist secret\n",
    "os.environ[\"OPENAI_API_KEY\"] = \"your-openai-api-key\"  # pragma: allowlist secret"
   ]
  },
  {
   "cell_type": "markdown",
   "id": "bc5ab717-fd27-4c59-b912-bdd099541478",
   "metadata": {},
   "source": [
    "It's also helpful (but not needed) to set up [LangSmith](https://smith.langchain.com/) for best-in-class observability:"
   ]
  },
  {
   "cell_type": "code",
   "execution_count": 3,
   "id": "a6c2f136-6367-4f1f-825d-ae741e1bf281",
   "metadata": {},
   "outputs": [],
   "source": [
    "# os.environ[\"LANGCHAIN_TRACING_V2\"] = \"true\"\n",
    "# os.environ[\"LANGCHAIN_API_KEY\"] = getpass.getpass()"
   ]
  },
  {
   "cell_type": "markdown",
   "id": "1c97218f-f366-479d-8bf7-fe9f2f6df73f",
   "metadata": {},
   "source": [
    "## Using FMPDataToolkit\n",
    "The FMPDataToolkit provides a collection of tools based on your natural language query. Here are some examples:\n"
   ]
  },
  {
   "cell_type": "code",
   "execution_count": 4,
   "id": "8b3ddfe9-ca79-494c-a7ab-1f56d9407a64",
   "metadata": {},
   "outputs": [],
   "source": [
    "from langchain_fmp_data import FMPDataToolkit\n",
    "\n",
    "# Example 1: Getting stock market data tools\n",
    "market_toolkit = FMPDataToolkit(\n",
    "    query=\"Get stock market prices and technical indicators\",\n",
    "    num_results=5\n",
    ")\n",
    "market_tools = market_toolkit.get_tools()\n",
    "print(\"\\nMarket Analysis Tools:\")\n",
    "for tool in market_tools:\n",
    "    print(f\"- {tool.name}: {tool.description}\")\n",
    "\n",
    "# Example 2: Getting fundamental analysis tools\n",
    "fundamental_toolkit = FMPDataToolkit(\n",
    "    query=\"Company financial statements and fundamental ratios\",\n",
    "    num_results=5\n",
    ")\n",
    "fundamental_tools = fundamental_toolkit.get_tools()\n",
    "print(\"\\nFundamental Analysis Tools:\")\n",
    "for tool in fundamental_tools:\n",
    "    print(f\"- {tool.name}: {tool.description}\")\n",
    "\n",
    "# Example 3: Getting economic data tools\n",
    "economic_toolkit = FMPDataToolkit(\n",
    "    query=\"Economic indicators and market statistics\",\n",
    "    num_results=5\n",
    ")\n",
    "economic_tools = economic_toolkit.get_tools()\n",
    "print(\"\\nEconomic Analysis Tools:\")\n",
    "for tool in economic_tools:\n",
    "    print(f\"- {tool.name}: {tool.description}\")"
   ]
  },
  {
   "cell_type": "markdown",
   "id": "74147a1a",
   "metadata": {},
   "source": [
    "## Integrating with LangChain Agents\n",
    "You can use these tools with LangChain agents:\n"
   ]
  },
  {
   "cell_type": "code",
   "execution_count": null,
   "id": "65310a8b-eb0c-4d9e-a618-4f4abe2414fc",
   "metadata": {},
   "outputs": [],
   "source": [
    "from langchain_openai import ChatOpenAI\n",
    "from langchain.agents import create_openai_functions_agent\n",
    "from langchain.agents import AgentExecutor\n",
    "\n",
    "# Initialize the LLM\n",
    "llm = ChatOpenAI(temperature=0)\n",
    "\n",
    "# Create toolkit and get tools\n",
    "toolkit = FMPDataToolkit(\n",
    "    query=\"Stock prices and company financials\",\n",
    "    num_results=3\n",
    ")\n",
    "tools = toolkit.get_tools()\n",
    "\n",
    "# Create and run agent\n",
    "agent = create_openai_functions_agent(llm, tools)\n",
    "agent_executor = AgentExecutor(agent=agent, tools=tools)\n",
    "\n",
    "# Example queries\n",
    "queries = [\n",
    "    \"What's the current stock price of Apple?\",\n",
    "    \"Show me Microsoft's revenue growth over the last year\",\n",
    "    \"Compare Tesla and Ford's profit margins\"\n",
    "]\n",
    "\n",
    "for query in queries:\n",
    "    print(f\"\\nQuery: {query}\")\n",
    "    response = agent_executor.invoke({\"input\": query})\n",
    "    print(f\"Response: {response['output']}\")"
   ]
  },
  {
   "cell_type": "markdown",
   "id": "d6e73897",
   "metadata": {},
   "source": [
    "## Using FMPDataTool\n",
    "The FMPDataTool provides a single, powerful tool that can answer financial queries by automatically selecting the right endpoints:\n"
   ]
  },
  {
   "cell_type": "code",
   "execution_count": null,
   "id": "f90e33a7",
   "metadata": {},
   "outputs": [],
   "source": [
    "from langchain_fmp_data import FMPDataTool\n",
    "from langchain_fmp_data.tools import ResponseFormat\n",
    "\n",
    "# Initialize the tool\n",
    "tool = FMPDataTool()\n",
    "\n",
    "# Example 1: Basic stock price query\n",
    "query1 = \"What's the current price of Bitcoin?\"\n",
    "response1 = tool.invoke({\"query\": query1})\n",
    "print(f\"\\nQuery: {query1}\")\n",
    "print(f\"Response: {response1}\")\n",
    "\n",
    "# Example 2: Complex financial analysis\n",
    "query2 = \"Compare the debt ratios of Apple and Microsoft\"\n",
    "response2 = tool.invoke({\n",
    "    \"query\": query2,\n",
    "    \"response_format\": ResponseFormat.BOTH  # Get both natural language and structured data\n",
    "})\n",
    "print(f\"\\nQuery: {query2}\")\n",
    "print(f\"Response: {response2}\")\n",
    "\n",
    "# Example 3: Market analysis with technical indicators\n",
    "query3 = \"Show me the RSI and MACD indicators for Tesla stock\"\n",
    "response3 = tool.invoke({\n",
    "    \"query\": query3,\n",
    "    \"response_format\": ResponseFormat.DATA_STRUCTURE  # Get just the structured data\n",
    "})\n",
    "print(f\"\\nQuery: {query3}\")\n",
    "print(f\"Response: {response3}\")"
   ]
  },
  {
   "cell_type": "markdown",
   "id": "659f9fbd-6fcf-445f-aa8c-72d8e60154bd",
   "metadata": {},
   "source": [
    "## Advanced Usage\n",
    "You can customize the tool's behavior:\n",
    "\n"
   ]
  },
  {
   "cell_type": "code",
   "execution_count": 16,
   "id": "af3123ad-7a02-40e5-b58e-7d56e23e5830",
   "metadata": {},
   "outputs": [],
   "source": [
    "# Initialize with custom settings\n",
    "advanced_tool = FMPDataTool(\n",
    "    max_iterations=50,  # Increase max iterations for complex queries\n",
    "    temperature=0.2     # Adjust temperature for more/less focused responses\n",
    ")\n",
    "\n",
    "# Example of a complex multi-part analysis\n",
    "query = \"\"\"\n",
    "Analyze Apple's financial health by:\n",
    "1. Examining current ratios and debt levels\n",
    "2. Comparing profit margins to industry average\n",
    "3. Looking at cash flow trends\n",
    "4. Assessing growth metrics\n",
    "\"\"\"\n",
    "\n",
    "response = advanced_tool.invoke({\n",
    "    \"query\": query,\n",
    "    \"response_format\": ResponseFormat.BOTH\n",
    "})\n",
    "\n",
    "print(\"Detailed Financial Analysis:\")\n",
    "print(response)"
   ]
  }
 ],
 "metadata": {
  "kernelspec": {
   "display_name": "poetry-venv-311",
   "language": "python",
   "name": "poetry-venv-311"
  },
  "language_info": {
   "codemirror_mode": {
    "name": "ipython",
    "version": 3
   },
   "file_extension": ".py",
   "mimetype": "text/x-python",
   "name": "python",
   "nbconvert_exporter": "python",
   "pygments_lexer": "ipython3",
   "version": "3.11.9"
  }
 },
 "nbformat": 4,
 "nbformat_minor": 5
}
